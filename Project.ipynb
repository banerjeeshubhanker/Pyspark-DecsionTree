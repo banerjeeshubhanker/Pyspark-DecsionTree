{
 "cells": [
  {
   "cell_type": "code",
   "execution_count": 1,
   "id": "portuguese-setting",
   "metadata": {},
   "outputs": [
    {
     "name": "stderr",
     "output_type": "stream",
     "text": [
      "UsageError: unrecognized arguments: pyspark.ml.evaluation import MulticlassClassificationEvaluator\n"
     ]
    }
   ],
   "source": [
    "from pyspark.sql import SQLContext\n",
    "from pyspark.sql import DataFrameNaFunctions\n",
    "from pyspark.ml import Pipeline\n",
    "from pyspark.ml.classification import DecisionTreeClassifier\n",
    "from pyspark.ml.classification import LogisticRegression\n",
    "from pyspark.ml.feature import Binarizer\n",
    "from pyspark.ml.feature import OneHotEncoder, VectorAssembler, StringIndexer, VectorIndexer\n",
    "from pyspark.ml.classification import RandomForestClassifier\n",
    "from pyspark.sql.functions import avg\n",
    "import pandas as pd\n",
    "import numpy as np\n",
    "import matplotlib.pyplot as plt\n",
    "%matplotlib inlinefrom pyspark.ml.evaluation import MulticlassClassificationEvaluator\n",
    "from pyspark.mllib.evaluation import MulticlassMetrics\n",
    "from pyspark.ml.evaluation import BinaryClassificationEvaluator\n",
    "from imblearn.over_sampling import SMOTE\n",
    "from imblearn.combine import SMOTEENN\n",
    "from sklearn.model_selection import train_test_split\n",
    "from collections import Counter"
   ]
  },
  {
   "cell_type": "code",
   "execution_count": 2,
   "id": "operational-tiffany",
   "metadata": {},
   "outputs": [],
   "source": [
    "from pyspark.context import SparkContext\n",
    "from pyspark.sql.session import SparkSession\n",
    "sc = SparkContext('local')\n",
    "spark = SparkSession(sc)"
   ]
  },
  {
   "cell_type": "code",
   "execution_count": 3,
   "id": "clean-electronics",
   "metadata": {},
   "outputs": [],
   "source": [
    "df = spark.read.format('com.databricks.spark.csv').options(header=True, inferschema=True).load('stroke.csv')"
   ]
  },
  {
   "cell_type": "code",
   "execution_count": 4,
   "id": "ecological-cookbook",
   "metadata": {},
   "outputs": [],
   "source": [
    "featureColumns = ['gender','age','diabetes','hypertension',\n",
    " 'heart disease','smoking history','BMI']"
   ]
  },
  {
   "cell_type": "code",
   "execution_count": 52,
   "id": "toxic-smoke",
   "metadata": {},
   "outputs": [
    {
     "data": {
      "text/plain": [
       "['gender',\n",
       " 'age',\n",
       " 'diabetes',\n",
       " 'hypertension',\n",
       " 'heart disease',\n",
       " 'smoking history',\n",
       " 'BMI']"
      ]
     },
     "execution_count": 52,
     "metadata": {},
     "output_type": "execute_result"
    }
   ],
   "source": [
    "featureColumns"
   ]
  },
  {
   "cell_type": "code",
   "execution_count": 5,
   "id": "monetary-bouquet",
   "metadata": {},
   "outputs": [
    {
     "data": {
      "text/plain": [
       "96713"
      ]
     },
     "execution_count": 5,
     "metadata": {},
     "output_type": "execute_result"
    }
   ],
   "source": [
    "df = df.filter(df.age >2)\n",
    "df.count()"
   ]
  },
  {
   "cell_type": "code",
   "execution_count": 6,
   "id": "reflected-explorer",
   "metadata": {},
   "outputs": [
    {
     "data": {
      "text/plain": [
       "([<matplotlib.axis.XTick at 0x7fbe3bf2c100>,\n",
       "  <matplotlib.axis.XTick at 0x7fbe3bf2c0d0>],\n",
       " [Text(0.175, 0, '1'), Text(1.175, 0, '0')])"
      ]
     },
     "execution_count": 6,
     "metadata": {},
     "output_type": "execute_result"
    },
    {
     "data": {
      "image/png": "[encoded data removed]",
      "text/plain": [
       "<Figure size 432x288 with 1 Axes>"
      ]
     },
     "metadata": {
      "needs_background": "light"
     },
     "output_type": "display_data"
    }
   ],
   "source": [
    "responses = df.groupBy('stroke').count().collect()\n",
    "categories = [i[0] for i in responses]\n",
    "counts = [i[1] for i in responses]\n",
    " \n",
    "ind = np.array(range(len(categories)))\n",
    "width = 0.35\n",
    "plt.bar(ind, counts, width=width, color='r')\n",
    " \n",
    "plt.ylabel('counts')\n",
    "plt.title('Stroke')\n",
    "plt.xticks(ind + width/2., categories)"
   ]
  },
  {
   "cell_type": "code",
   "execution_count": 7,
   "id": "seventh-landscape",
   "metadata": {},
   "outputs": [],
   "source": [
    "imputeDF = df\n",
    "imputeDF_Pandas = imputeDF.toPandas()"
   ]
  },
  {
   "cell_type": "code",
   "execution_count": 8,
   "id": "identical-abuse",
   "metadata": {},
   "outputs": [],
   "source": [
    "df_2_9 = imputeDF_Pandas[(imputeDF_Pandas['age'] >=2 ) & (imputeDF_Pandas['age'] <= 9)]\n",
    "values = {'smoking history': 0, 'BMI':17.125}\n",
    "df_2_9 = df_2_9.fillna(value = values)\n",
    "df_10_13 = imputeDF_Pandas[(imputeDF_Pandas['age'] >=10 ) & (imputeDF_Pandas['age'] <= 13)]\n",
    "values = {'smoking history': 0, 'BMI':19.5}\n",
    "df_10_13 = df_10_13.fillna(value = values)\n",
    "df_14_17 = imputeDF_Pandas[(imputeDF_Pandas['age'] >=14 ) & (imputeDF_Pandas['age'] <= 17)]\n",
    "values = {'smoking history': 0, 'BMI':23.05}\n",
    "df_14_17 = df_14_17.fillna(value = values)\n",
    "df_18_24 = imputeDF_Pandas[(imputeDF_Pandas['age'] >=18 ) & (imputeDF_Pandas['age'] <= 24)]\n",
    "values = {'smoking history': 0, 'BMI':27.1}\n",
    "df_18_24 = df_18_24.fillna(value = values)\n",
    "df_25_29 = imputeDF_Pandas[(imputeDF_Pandas['age'] >=25 ) & (imputeDF_Pandas['age'] <= 29)]\n",
    "values = {'smoking history': 0, 'BMI':27.9}\n",
    "df_25_29 = df_25_29.fillna(value = values)\n",
    "df_30_34 = imputeDF_Pandas[(imputeDF_Pandas['age'] >=30 ) & (imputeDF_Pandas['age'] <= 34)]\n",
    "values = {'smoking history': 0.25, 'BMI':29.6}\n",
    "df_30_34 = df_30_34.fillna(value = values)\n",
    "df_35_44 = imputeDF_Pandas[(imputeDF_Pandas['age'] >=35 ) & (imputeDF_Pandas['age'] <= 44)]\n",
    "values = {'smoking history': 0.25, 'BMI':30.15}\n",
    "df_35_44 = df_35_44.fillna(value = values)\n",
    "df_45_49 = imputeDF_Pandas[(imputeDF_Pandas['age'] >=45 ) & (imputeDF_Pandas['age'] <= 49)]\n",
    "values = {'smoking history': 0, 'BMI':29.7}\n",
    "df_45_49 = df_45_49.fillna(value = values)\n",
    "df_50_59 = imputeDF_Pandas[(imputeDF_Pandas['age'] >=50 ) & (imputeDF_Pandas['age'] <= 59)]\n",
    "values = {'smoking history': 0, 'BMI':29.95}\n",
    "df_50_59 = df_50_59.fillna(value = values)\n",
    "df_60_74 = imputeDF_Pandas[(imputeDF_Pandas['age'] >=60 ) & (imputeDF_Pandas['age'] <= 74)]\n",
    "values = {'smoking history': 0, 'BMI':30.1}\n",
    "df_60_74 = df_60_74.fillna(value = values)\n",
    "df_75_plus = imputeDF_Pandas[(imputeDF_Pandas['age'] >75 )]\n",
    "values = {'smoking history': 0, 'BMI':28.1}\n",
    "df_75_plus = df_75_plus.fillna(value = values)"
   ]
  },
  {
   "cell_type": "code",
   "execution_count": 9,
   "id": "activated-andrews",
   "metadata": {},
   "outputs": [],
   "source": [
    "all_frames = [df_2_9, df_10_13, df_14_17, df_18_24, df_25_29, df_30_34, df_35_44, df_45_49, df_50_59, df_60_74, df_75_plus]\n",
    "df_combined = pd.concat(all_frames)\n",
    "df_combined_converted = spark.createDataFrame(df_combined)\n",
    "imputeDF = df_combined_converted"
   ]
  },
  {
   "cell_type": "code",
   "execution_count": 10,
   "id": "earlier-litigation",
   "metadata": {},
   "outputs": [],
   "source": [
    "from sklearn.model_selection import train_test_split"
   ]
  },
  {
   "cell_type": "code",
   "execution_count": 11,
   "id": "lined-drove",
   "metadata": {},
   "outputs": [],
   "source": [
    "X = imputeDF.toPandas().filter(items=['gender', 'age', 'diabetes','hypertension','heart disease','smoking history','BMI'])\n",
    "Y = imputeDF.toPandas().filter(items=['stroke'])\n",
    "X_train, X_test, Y_train, Y_test = train_test_split(X, Y, test_size=0.1, random_state=0)"
   ]
  },
  {
   "cell_type": "code",
   "execution_count": 12,
   "id": "purple-retirement",
   "metadata": {},
   "outputs": [],
   "source": [
    "from imblearn.over_sampling import SMOTE\n",
    "from imblearn.combine import SMOTEENN\n",
    "from collections import Counter"
   ]
  },
  {
   "cell_type": "code",
   "execution_count": 13,
   "id": "contemporary-dancing",
   "metadata": {},
   "outputs": [
    {
     "name": "stdout",
     "output_type": "stream",
     "text": [
      "Resampled dataset shape Counter({'stroke': 1})\n"
     ]
    }
   ],
   "source": [
    "sm = SMOTE(random_state=12, sampling_strategy = 'auto')\n",
    "x_train_res, y_train_res = sm.fit_sample(X_train, Y_train)\n",
    "print('Resampled dataset shape {}'.format(Counter(y_train_res)))"
   ]
  },
  {
   "cell_type": "code",
   "execution_count": 14,
   "id": "designing-watson",
   "metadata": {},
   "outputs": [],
   "source": [
    "dataframe_1 = pd.DataFrame(x_train_res,columns=['gender', 'age', 'diabetes', 'hypertension', 'heart disease', 'smoking history', 'BMI'])\n",
    "dataframe_2 = pd.DataFrame(y_train_res, columns = ['stroke'])# frames = [dataframe_1, dataframe_2]\n",
    "result = dataframe_1.combine_first(dataframe_2)"
   ]
  },
  {
   "cell_type": "code",
   "execution_count": 16,
   "id": "governmental-breakfast",
   "metadata": {},
   "outputs": [
    {
     "data": {
      "text/plain": [
       "BMI                float64\n",
       "age                float64\n",
       "diabetes             int64\n",
       "gender               int64\n",
       "heart disease      float64\n",
       "hypertension         int64\n",
       "smoking history    float64\n",
       "stroke             float64\n",
       "dtype: object"
      ]
     },
     "execution_count": 16,
     "metadata": {},
     "output_type": "execute_result"
    }
   ],
   "source": [
    "result.astype({'stroke': 'float'}).dtypes"
   ]
  },
  {
   "cell_type": "code",
   "execution_count": 25,
   "id": "collaborative-bracelet",
   "metadata": {},
   "outputs": [],
   "source": [
    "imputeDF_1 = spark.createDataFrame(result)\n",
    "imputeDF_1 = imputeDF_1.withColumn(\"stroke\",imputeDF_1[\"stroke\"].cast('double'))"
   ]
  },
  {
   "cell_type": "code",
   "execution_count": 42,
   "id": "optical-turtle",
   "metadata": {},
   "outputs": [],
   "source": [
    "binarizer = Binarizer(threshold=0.0, inputCol='stroke', outputCol='label')\n",
    "binarizedDF = binarizer.transform(imputeDF_1)\n",
    "binarizedDF = binarizedDF.drop('stroke')"
   ]
  },
  {
   "cell_type": "code",
   "execution_count": 56,
   "id": "elementary-nigeria",
   "metadata": {},
   "outputs": [
    {
     "name": "stdout",
     "output_type": "stream",
     "text": [
      "DataFrame[BMI: double, age: double, diabetes: bigint, gender: bigint, heart disease: double, hypertension: bigint, smoking history: double, label: double, features: vector]\n"
     ]
    }
   ],
   "source": [
    "assembler = VectorAssembler(inputCols = featureColumns, outputCol = \"features\")\n",
    "assembled = assembler.setHandleInvalid(\"keep\").transform(binarizedDF)\n",
    "print(assembled)"
   ]
  },
  {
   "cell_type": "code",
   "execution_count": 57,
   "id": "spiritual-cemetery",
   "metadata": {},
   "outputs": [
    {
     "name": "stdout",
     "output_type": "stream",
     "text": [
      "Distribution of Ones and Zeros in trainingData is:  [Row(label=0.0, count=59507), Row(label=1.0, count=59379)]\n"
     ]
    }
   ],
   "source": [
    "(trainingData, testData) = assembled.randomSplit([0.7, 0.3], seed=0)\n",
    "print(\"Distribution of Ones and Zeros in trainingData is: \", trainingData.groupBy(\"label\").count().take(3))"
   ]
  },
  {
   "cell_type": "code",
   "execution_count": 58,
   "id": "imperial-network",
   "metadata": {},
   "outputs": [],
   "source": [
    "dt = DecisionTreeClassifier(labelCol=\"label\", featuresCol=\"features\", maxDepth=25, minInstancesPerNode=30, impurity=\"gini\")\n",
    "pipeline = Pipeline(stages=[dt])\n",
    "model = pipeline.fit(trainingData)"
   ]
  },
  {
   "cell_type": "code",
   "execution_count": 59,
   "id": "opening-miami",
   "metadata": {},
   "outputs": [],
   "source": [
    "predictions = model.transform(testData)"
   ]
  },
  {
   "cell_type": "code",
   "execution_count": 60,
   "id": "dramatic-prime",
   "metadata": {},
   "outputs": [
    {
     "data": {
      "text/plain": [
       "DataFrame[BMI: double, age: double, diabetes: bigint, gender: bigint, heart disease: double, hypertension: bigint, smoking history: double, label: double, features: vector, rawPrediction: vector, probability: vector, prediction: double]"
      ]
     },
     "execution_count": 60,
     "metadata": {},
     "output_type": "execute_result"
    }
   ],
   "source": [
    "predictions"
   ]
  },
  {
   "cell_type": "code",
   "execution_count": 62,
   "id": "provincial-despite",
   "metadata": {},
   "outputs": [
    {
     "name": "stdout",
     "output_type": "stream",
     "text": [
      "Test Data Area under ROC score is :  0.8554662369147434\n"
     ]
    }
   ],
   "source": [
    "from pyspark.mllib.evaluation import BinaryClassificationMetrics as metric\n",
    "results = predictions.select(['probability', 'label'])\n",
    " \n",
    "## prepare score-label set\n",
    "results_collect = results.collect()\n",
    "results_list = [(float(i[0][0]), 1.0-float(i[1])) for i in results_collect]\n",
    "scoreAndLabels = sc.parallelize(results_list)\n",
    " \n",
    "metrics = metric(scoreAndLabels)\n",
    "print(\"Test Data Area under ROC score is : \", metrics.areaUnderROC)\n",
    "\n"
   ]
  },
  {
   "cell_type": "code",
   "execution_count": 63,
   "id": "exceptional-fitness",
   "metadata": {},
   "outputs": [
    {
     "data": {
      "image/png": "[encoded data removed]",
      "text/plain": [
       "<Figure size 432x288 with 1 Axes>"
      ]
     },
     "metadata": {
      "needs_background": "light"
     },
     "output_type": "display_data"
    }
   ],
   "source": [
    "from sklearn.metrics import roc_curve, auc\n",
    " \n",
    "fpr = dict()\n",
    "tpr = dict()\n",
    "roc_auc = dict()\n",
    " \n",
    "y_test = [i[1] for i in results_list]\n",
    "y_score = [i[0] for i in results_list]\n",
    " \n",
    "fpr, tpr, _ = roc_curve(y_test, y_score)\n",
    "roc_auc = auc(fpr, tpr)\n",
    " \n",
    "%matplotlib inline\n",
    "plt.figure()\n",
    "plt.plot(fpr, tpr, label='ROC curve (area = %0.2f)' % roc_auc)\n",
    "plt.plot([0, 1], [0, 1], 'k--')\n",
    "plt.xlim([0.0, 1.0])\n",
    "plt.ylim([0.0, 1.05])\n",
    "plt.xlabel('False Positive Rate')\n",
    "plt.ylabel('True Positive Rate')\n",
    "plt.title('Receiver operating characteristic Graph')\n",
    "plt.legend(loc=\"lower right\")\n",
    "plt.show()"
   ]
  },
  {
   "cell_type": "code",
   "execution_count": null,
   "id": "adapted-start",
   "metadata": {},
   "outputs": [],
   "source": []
  }
 ],
 "metadata": {
  "kernelspec": {
   "display_name": "Python 3",
   "language": "python",
   "name": "python3"
  },
  "language_info": {
   "codemirror_mode": {
    "name": "ipython",
    "version": 3
   },
   "file_extension": ".py",
   "mimetype": "text/x-python",
   "name": "python",
   "nbconvert_exporter": "python",
   "pygments_lexer": "ipython3",
   "version": "3.8.5"
  }
 },
 "nbformat": 4,
 "nbformat_minor": 5
}
